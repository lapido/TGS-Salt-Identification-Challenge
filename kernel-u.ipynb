{
  "cells": [
    {
      "metadata": {
        "_uuid": "8f2839f25d086af736a60e9eeb907d3b93b6e0e5",
        "_cell_guid": "b1076dfc-b9ad-4769-8c92-a6c4dae69d19",
        "trusted": true
      },
      "cell_type": "code",
      "source": "# This Python 3 environment comes with many helpful analytics libraries installed\n# It is defined by the kaggle/python docker image: https://github.com/kaggle/docker-python\n# For example, here's several helpful packages to load in \n\nimport numpy as np # linear algebra\nimport pandas as pd # data processing, CSV file I/O (e.g. pd.read_csv)\n\n# Input data files are available in the \"../input/\" directory.\n# For example, running this (by clicking run or pressing Shift+Enter) will list the files in the input directory\n\nimport os\nprint(os.listdir(\"../input\"))\n\n# Any results you write to the current directory are saved as output.",
      "execution_count": 1,
      "outputs": [
        {
          "output_type": "stream",
          "text": "['train', 'test', 'depths.csv', 'train.csv', 'sample_submission.csv']\n",
          "name": "stdout"
        }
      ]
    },
    {
      "metadata": {
        "_cell_guid": "79c7e3d0-c299-4dcb-8224-4455121ee9b0",
        "_uuid": "d629ff2d2480ee46fbb7e2d37f6b5fab8052498a",
        "trusted": true
      },
      "cell_type": "code",
      "source": "import numpy as np\nimport cv2\nfrom tqdm import tqdm\nimport os",
      "execution_count": 6,
      "outputs": []
    },
    {
      "metadata": {
        "_kg_hide-input": false,
        "trusted": true,
        "_uuid": "bb479bf74f28d2bd5849551e627574f34e050a15"
      },
      "cell_type": "code",
      "source": "TRAIN_IMAGE_DIR = '../input/train/images/'\nTRAIN_MASK_DIR = '../input/train/masks/'\nTEST_IMAGE_DIR = '../input/test/images/'",
      "execution_count": 10,
      "outputs": []
    },
    {
      "metadata": {
        "trusted": true,
        "_uuid": "e288f731a1790c4aaa9fa26baa06b26992da1d60"
      },
      "cell_type": "code",
      "source": "train_data = os.listdir(TRAIN_IMAGE_DIR)\nx = [np.array(cv2.imread(TRAIN_IMAGE_DIR + p, cv2.IMREAD_GRAYSCALE), dtype=np.uint8) for p in tqdm(train_data)]\nx = np.array(x)/255\n\ny = [np.array(cv2.imread(TRAIN_MASK_DIR + p, cv2.IMREAD_GRAYSCALE), dtype=np.uint8) for p in tqdm(train_data)]\ny = np.array(y)/255\nprint(x.shape,y.shape)",
      "execution_count": 11,
      "outputs": [
        {
          "output_type": "stream",
          "text": "100%|██████████| 4000/4000 [00:06<00:00, 636.20it/s]\n100%|██████████| 4000/4000 [00:04<00:00, 922.71it/s]\n",
          "name": "stderr"
        },
        {
          "output_type": "stream",
          "text": "(4000, 101, 101) (4000, 101, 101)\n",
          "name": "stdout"
        }
      ]
    },
    {
      "metadata": {
        "trusted": true,
        "_uuid": "f575ab1cfd5bae8708651d4761ae86bfba39d653"
      },
      "cell_type": "code",
      "source": "x=np.expand_dims(x,axis=3)\ny=np.expand_dims(y,axis=3)\nprint(x.shape,y.shape)",
      "execution_count": 12,
      "outputs": [
        {
          "output_type": "stream",
          "text": "(4000, 101, 101, 1) (4000, 101, 101, 1)\n",
          "name": "stdout"
        }
      ]
    },
    {
      "metadata": {
        "trusted": true,
        "_uuid": "d1a34769db4d488b6d278b55c3403f228a2286dd"
      },
      "cell_type": "code",
      "source": "from keras.layers import MaxPooling2D,Conv2D,Dense,Dropout,Input,Conv2DTranspose,Concatenate\nfrom keras.models import Sequential,Model\nfrom keras.optimizers import Adam\nimport keras\ndef conv_block(num_layers,inp,units,kernel_size):\n    x = input\n    for l in range(num_layers): #repeat 32-24-16 ----4 times\n        x = Conv2D(units, kernel_size=kernel_size,padding='SAME',activation='relu')(x)\n    return x\ninput = Input(shape=(101,101,1))\ncnn1 = conv_block(5,input,32,3)\ncnn2 = conv_block(5,input,24,5)\ncnn3 = conv_block(5,input,16,7)\ncnn4 = conv_block(5,input,8,9)\ncnn5 = conv_block(5,input,4,11)\nconcat = Concatenate()([cnn1,cnn2,cnn3,cnn4,cnn5])\n\nd1 = Conv2D(16,1,activation='relu')(concat)\nout = Conv2D(1,1,activation='sigmoid')(d1) #filter_size = 1 ,so that 1x1 filter will scan over for more learning\n\nmodel = Model(inputs=[input], outputs=[out])\nadam=Adam(lr=0.001)\nmodel.compile(loss=\"binary_crossentropy\",optimizer=\"adam\",metrics=[\"accuracy\"])\nmodel.summary() # start_dim=(101,101,1) == #end_dim=(101,101,1)",
      "execution_count": 14,
      "outputs": [
        {
          "output_type": "stream",
          "text": "__________________________________________________________________________________________________\nLayer (type)                    Output Shape         Param #     Connected to                     \n==================================================================================================\ninput_1 (InputLayer)            (None, 101, 101, 1)  0                                            \n__________________________________________________________________________________________________\nconv2d_1 (Conv2D)               (None, 101, 101, 32) 320         input_1[0][0]                    \n__________________________________________________________________________________________________\nconv2d_6 (Conv2D)               (None, 101, 101, 24) 624         input_1[0][0]                    \n__________________________________________________________________________________________________\nconv2d_11 (Conv2D)              (None, 101, 101, 16) 800         input_1[0][0]                    \n__________________________________________________________________________________________________\nconv2d_16 (Conv2D)              (None, 101, 101, 8)  656         input_1[0][0]                    \n__________________________________________________________________________________________________\nconv2d_21 (Conv2D)              (None, 101, 101, 4)  488         input_1[0][0]                    \n__________________________________________________________________________________________________\nconv2d_2 (Conv2D)               (None, 101, 101, 32) 9248        conv2d_1[0][0]                   \n__________________________________________________________________________________________________\nconv2d_7 (Conv2D)               (None, 101, 101, 24) 14424       conv2d_6[0][0]                   \n__________________________________________________________________________________________________\nconv2d_12 (Conv2D)              (None, 101, 101, 16) 12560       conv2d_11[0][0]                  \n__________________________________________________________________________________________________\nconv2d_17 (Conv2D)              (None, 101, 101, 8)  5192        conv2d_16[0][0]                  \n__________________________________________________________________________________________________\nconv2d_22 (Conv2D)              (None, 101, 101, 4)  1940        conv2d_21[0][0]                  \n__________________________________________________________________________________________________\nconv2d_3 (Conv2D)               (None, 101, 101, 32) 9248        conv2d_2[0][0]                   \n__________________________________________________________________________________________________\nconv2d_8 (Conv2D)               (None, 101, 101, 24) 14424       conv2d_7[0][0]                   \n__________________________________________________________________________________________________\nconv2d_13 (Conv2D)              (None, 101, 101, 16) 12560       conv2d_12[0][0]                  \n__________________________________________________________________________________________________\nconv2d_18 (Conv2D)              (None, 101, 101, 8)  5192        conv2d_17[0][0]                  \n__________________________________________________________________________________________________\nconv2d_23 (Conv2D)              (None, 101, 101, 4)  1940        conv2d_22[0][0]                  \n__________________________________________________________________________________________________\nconv2d_4 (Conv2D)               (None, 101, 101, 32) 9248        conv2d_3[0][0]                   \n__________________________________________________________________________________________________\nconv2d_9 (Conv2D)               (None, 101, 101, 24) 14424       conv2d_8[0][0]                   \n__________________________________________________________________________________________________\nconv2d_14 (Conv2D)              (None, 101, 101, 16) 12560       conv2d_13[0][0]                  \n__________________________________________________________________________________________________\nconv2d_19 (Conv2D)              (None, 101, 101, 8)  5192        conv2d_18[0][0]                  \n__________________________________________________________________________________________________\nconv2d_24 (Conv2D)              (None, 101, 101, 4)  1940        conv2d_23[0][0]                  \n__________________________________________________________________________________________________\nconv2d_5 (Conv2D)               (None, 101, 101, 32) 9248        conv2d_4[0][0]                   \n__________________________________________________________________________________________________\nconv2d_10 (Conv2D)              (None, 101, 101, 24) 14424       conv2d_9[0][0]                   \n__________________________________________________________________________________________________\nconv2d_15 (Conv2D)              (None, 101, 101, 16) 12560       conv2d_14[0][0]                  \n__________________________________________________________________________________________________\nconv2d_20 (Conv2D)              (None, 101, 101, 8)  5192        conv2d_19[0][0]                  \n__________________________________________________________________________________________________\nconv2d_25 (Conv2D)              (None, 101, 101, 4)  1940        conv2d_24[0][0]                  \n__________________________________________________________________________________________________\nconcatenate_1 (Concatenate)     (None, 101, 101, 84) 0           conv2d_5[0][0]                   \n                                                                 conv2d_10[0][0]                  \n                                                                 conv2d_15[0][0]                  \n                                                                 conv2d_20[0][0]                  \n                                                                 conv2d_25[0][0]                  \n__________________________________________________________________________________________________\nconv2d_26 (Conv2D)              (None, 101, 101, 16) 1360        concatenate_1[0][0]              \n__________________________________________________________________________________________________\nconv2d_27 (Conv2D)              (None, 101, 101, 1)  17          conv2d_26[0][0]                  \n==================================================================================================\nTotal params: 177,721\nTrainable params: 177,721\nNon-trainable params: 0\n__________________________________________________________________________________________________\n",
          "name": "stdout"
        }
      ]
    },
    {
      "metadata": {
        "trusted": true,
        "_uuid": "8ac2f49912f1d9082afa0cfd185b1db9bf95f716"
      },
      "cell_type": "code",
      "source": "keras.callbacks.EarlyStopping(monitor='val_loss', min_delta=0, patience=0, verbose=0, mode='auto')\nmodel.fit(x,y,epochs=50,batch_size=128,validation_split=0.2,verbose=True)",
      "execution_count": null,
      "outputs": []
    }
  ],
  "metadata": {
    "kernelspec": {
      "display_name": "Python 3",
      "language": "python",
      "name": "python3"
    },
    "language_info": {
      "name": "python",
      "version": "3.6.6",
      "mimetype": "text/x-python",
      "codemirror_mode": {
        "name": "ipython",
        "version": 3
      },
      "pygments_lexer": "ipython3",
      "nbconvert_exporter": "python",
      "file_extension": ".py"
    }
  },
  "nbformat": 4,
  "nbformat_minor": 1
}